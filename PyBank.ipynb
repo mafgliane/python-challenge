{
 "cells": [
  {
   "cell_type": "code",
   "execution_count": 60,
   "metadata": {},
   "outputs": [],
   "source": [
    "import os\n",
    "import csv"
   ]
  },
  {
   "cell_type": "code",
   "execution_count": 61,
   "metadata": {},
   "outputs": [],
   "source": [
    "# Path to collect data from the Resources folder\n",
    "budget_csv = os.path.join('Resources', 'budget_data.csv')"
   ]
  },
  {
   "cell_type": "code",
   "execution_count": 76,
   "metadata": {},
   "outputs": [
    {
     "name": "stdout",
     "output_type": "stream",
     "text": [
      "Financial Analysis\n",
      "-------------------------------\n",
      "Total no. of months: 86\n",
      "Total Amount       : $38382578\n",
      "Average change     : $-2315.12\n",
      "Greatest Increase in Profits: Feb-2012 ($1926159)\n",
      "Greatest Decrease in Profits: Sep-2013 ($-2196167)\n"
     ]
    }
   ],
   "source": [
    "#initialize variables\n",
    "currValue = 0\n",
    "prevValue=0\n",
    "rowCtr=0\n",
    "nAmount = 0\n",
    "delta=0\n",
    "highest=0\n",
    "lowest=0\n",
    "dateHigh=\"\"\n",
    "dateLow=\"\"\n",
    "results_txt=\"\"\n",
    "\n",
    "delta_list=[]\n",
    "\n",
    "# Open and read csv\n",
    "with open(budget_csv, newline=\"\") as csvfile:\n",
    "    csvreader = csv.reader(csvfile, delimiter=\",\")\n",
    "    \n",
    "    # Read and print the header row first\n",
    "    csv_header = next(csvfile)\n",
    "    \n",
    "    # Read through each row of data after the header\n",
    "    for row in csvreader:\n",
    "        currValue=int(row[1])\n",
    "        nAmount=nAmount+currValue\n",
    "        rowCtr=rowCtr+1\n",
    "        if rowCtr > 1:\n",
    "            delta=currValue-prevValue\n",
    "            delta_list.append(delta)\n",
    "            if highest<delta:\n",
    "                highest=delta\n",
    "                dateHigh=row[0]\n",
    "            if lowest>delta:\n",
    "                lowest=delta   \n",
    "                dateLow=row[0]\n",
    "        prevValue=currValue\n",
    "\n",
    "    results_txt = (\n",
    "    f\"Financial Analysis\\n\"\n",
    "    f\"-------------------------------\\n\"\n",
    "    f\"Total no. of months: {csvreader.line_num}\\n\"\n",
    "    f\"Total Amount       : ${str(nAmount)}\\n\"\n",
    "    f\"Average change     : ${sum(delta_list)/len(delta_list):.2f}\\n\" \n",
    "    f\"Greatest Increase in Profits: {dateHigh} (${highest})\\n\"\n",
    "    f\"Greatest Decrease in Profits: {dateLow} (${lowest})\")\n",
    "        \n",
    "    print(results_txt)      \n",
    "    \n",
    "    # Save results to a file\n",
    "    analysis = os.path.join('Results', 'analysis_results.txt')\n",
    "    with open(analysis,\"w\") as txtfile:\n",
    "        txtfile.write(results_txt)\n",
    "   "
   ]
  },
  {
   "cell_type": "code",
   "execution_count": null,
   "metadata": {},
   "outputs": [],
   "source": []
  }
 ],
 "metadata": {
  "kernelspec": {
   "display_name": "Python 3",
   "language": "python",
   "name": "python3"
  },
  "language_info": {
   "codemirror_mode": {
    "name": "ipython",
    "version": 3
   },
   "file_extension": ".py",
   "mimetype": "text/x-python",
   "name": "python",
   "nbconvert_exporter": "python",
   "pygments_lexer": "ipython3",
   "version": "3.7.4"
  }
 },
 "nbformat": 4,
 "nbformat_minor": 2
}
