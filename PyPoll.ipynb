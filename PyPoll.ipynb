{
 "cells": [
  {
   "cell_type": "code",
   "execution_count": 7,
   "metadata": {},
   "outputs": [],
   "source": [
    "import os\n",
    "import csv"
   ]
  },
  {
   "cell_type": "code",
   "execution_count": 8,
   "metadata": {},
   "outputs": [],
   "source": [
    "# Path to collect data from the Resources folder\n",
    "election_csv = os.path.join('Resources', 'election_data.csv')\n",
    "elec_results = os.path.join('Results', 'election_results.txt')"
   ]
  },
  {
   "cell_type": "code",
   "execution_count": 68,
   "metadata": {},
   "outputs": [
    {
     "name": "stdout",
     "output_type": "stream",
     "text": [
      "Election Results\n",
      "-------------------------\n",
      "Total votes: 3521001\n",
      "-------------------------\n",
      "Khan\t\t:63.000%\t2218231\n",
      "Correy\t\t:20.000%\t704200\n",
      "Li\t\t:14.000%\t492940\n",
      "O'Tooley\t\t:3.000%\t105630\n",
      "-------------------------\n",
      "Winner: Khan\n",
      "-------------------------\n",
      "\n"
     ]
    }
   ],
   "source": [
    "#initialize variables\n",
    "votes_ctr = 0\n",
    "candidates_list=[]\n",
    "candidate_tally={}\n",
    "candidate=\"\"\n",
    "percent_votes={}\n",
    "winner=\"\"\n",
    "winning_votes=0\n",
    "election_results=\"\"\n",
    "\n",
    "\n",
    "# Open and read csv\n",
    "with open(election_csv, newline=\"\") as csvfile:\n",
    "    csvreader = csv.reader(csvfile, delimiter=\",\")\n",
    "    \n",
    "    # Read header row first\n",
    "    csv_header = next(csvfile)\n",
    "    \n",
    "    # Extract data after the header\n",
    "    for row in csvreader:\n",
    "        votes_ctr=votes_ctr+1\n",
    "        candidate=row[2]\n",
    "        if candidate not in candidates_list:\n",
    "            candidates_list.append(candidate)\n",
    "            candidate_tally[candidate]=0\n",
    "        candidate_tally[candidate]=candidate_tally[candidate]+1\n",
    "\n",
    "election_results = (\n",
    "    f\"Election Results\\n\"\n",
    "    f\"-------------------------\\n\"\n",
    "    f\"Total votes: {csvreader.line_num}\\n\"\n",
    "    f\"-------------------------\\n\")\n",
    " \n",
    "for candidate in candidates_list:\n",
    "    percent_votes[candidate]=(candidate_tally[candidate]/votes_ctr)*100\n",
    "    if winning_votes<candidate_tally[candidate]:\n",
    "        winner=candidate\n",
    "        winning_votes=candidate_tally[candidate]\n",
    "    election_results= election_results+(f\"{candidate}\\t\\t:{percent_votes[candidate]:.3f}%\\t{candidate_tally[candidate]}\\n\")\n",
    "\n",
    "election_results=election_results+(\n",
    "    f\"-------------------------\\n\"\n",
    "    f\"Winner: {winner}\\n\"\n",
    "    f\"-------------------------\\n\")\n",
    "\n",
    "#send results to screen\n",
    "print(election_results)\n",
    "\n",
    "# Save results to file\n",
    "election_final = os.path.join('Results', 'election_results.txt')\n",
    "with open(election_final,\"w\") as txtfile:\n",
    "    txtfile.write(election_results)\n"
   ]
  },
  {
   "cell_type": "code",
   "execution_count": null,
   "metadata": {},
   "outputs": [],
   "source": []
  }
 ],
 "metadata": {
  "kernelspec": {
   "display_name": "Python 3",
   "language": "python",
   "name": "python3"
  },
  "language_info": {
   "codemirror_mode": {
    "name": "ipython",
    "version": 3
   },
   "file_extension": ".py",
   "mimetype": "text/x-python",
   "name": "python",
   "nbconvert_exporter": "python",
   "pygments_lexer": "ipython3",
   "version": "3.7.4"
  }
 },
 "nbformat": 4,
 "nbformat_minor": 2
}
